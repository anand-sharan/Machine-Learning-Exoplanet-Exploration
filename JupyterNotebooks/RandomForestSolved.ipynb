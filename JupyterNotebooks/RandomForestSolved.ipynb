{
 "cells": [
  {
   "cell_type": "markdown",
   "id": "dental-canvas",
   "metadata": {},
   "source": [
    "# Dependecies"
   ]
  },
  {
   "cell_type": "code",
   "execution_count": 14,
   "id": "human-delivery",
   "metadata": {},
   "outputs": [],
   "source": [
    "import pandas as pd\n",
    "import numpy as np\n",
    "from sklearn.model_selection import train_test_split, GridSearchCV\n",
    "from sklearn.preprocessing import LabelEncoder, MinMaxScaler\n",
    "from sklearn.feature_selection import RFECV\n",
    "from sklearn.ensemble import RandomForestClassifier\n",
    "import joblib"
   ]
  },
  {
   "cell_type": "markdown",
   "id": "animal-concert",
   "metadata": {},
   "source": [
    "# Process Data"
   ]
  },
  {
   "cell_type": "markdown",
   "id": "enabling-andorra",
   "metadata": {},
   "source": [
    "### Data Cleanup"
   ]
  },
  {
   "cell_type": "code",
   "execution_count": 15,
   "id": "popular-penny",
   "metadata": {},
   "outputs": [],
   "source": [
    "data = pd.read_csv(\"../Resources/exoplanet_data.csv\")\n",
    "\n",
    "# Drop null columns\n",
    "data = data.dropna(axis='columns', how='all')\n",
    "\n",
    "# Drop null rows\n",
    "data = data.dropna()\n",
    "\n",
    "# Convert dtypes of int64 to float64\n",
    "for column, content in data.items():\n",
    "    if data[column].dtype == 'int64':\n",
    "        data = data.astype({column: 'float64'})"
   ]
  },
  {
   "cell_type": "markdown",
   "id": "printable-woman",
   "metadata": {},
   "source": [
    "### Pre-prossessing"
   ]
  },
  {
   "cell_type": "code",
   "execution_count": 16,
   "id": "literary-netherlands",
   "metadata": {},
   "outputs": [],
   "source": [
    "# Assign data to X and y\n",
    "X = data.drop(\"koi_disposition\", axis=1)\n",
    "y = data[\"koi_disposition\"]\n",
    "\n",
    "# Split data into training and testing groups\n",
    "X_train, X_test, y_train, y_test = train_test_split(X, y, random_state=42, stratify=y)"
   ]
  },
  {
   "cell_type": "code",
   "execution_count": 17,
   "id": "divine-immune",
   "metadata": {},
   "outputs": [],
   "source": [
    "# Scale X values\n",
    "X_scaler = MinMaxScaler().fit(X_train)\n",
    "X_train_scaled = X_scaler.transform(X_train)\n",
    "X_test_scaled = X_scaler.transform(X_test)"
   ]
  },
  {
   "cell_type": "markdown",
   "id": "resident-vegetarian",
   "metadata": {},
   "source": [
    "# Build the Model"
   ]
  },
  {
   "cell_type": "markdown",
   "id": "cutting-exclusive",
   "metadata": {},
   "source": [
    "### Train the Model"
   ]
  },
  {
   "cell_type": "code",
   "execution_count": 18,
   "id": "reverse-investing",
   "metadata": {},
   "outputs": [
    {
     "name": "stdout",
     "output_type": "stream",
     "text": [
      "Training Data Score: 100.0 %\n",
      "Testing Data Score: 89.874 %\n"
     ]
    }
   ],
   "source": [
    "model_1 = RandomForestClassifier(n_estimators=200)\n",
    "model_1.fit(X_train_scaled, y_train)\n",
    "\n",
    "model_1_training_score = round(model_1.score(X_train_scaled, y_train)*100,3)\n",
    "base_accuracy = round(model_1.score(X_test_scaled, y_test)*100,3)\n",
    "\n",
    "print(f\"Training Data Score: {model_1_training_score} %\")\n",
    "print(f\"Testing Data Score: {base_accuracy} %\")"
   ]
  },
  {
   "cell_type": "markdown",
   "id": "filled-assumption",
   "metadata": {},
   "source": [
    "### Select Features"
   ]
  },
  {
   "cell_type": "code",
   "execution_count": 19,
   "id": "printable-kingston",
   "metadata": {},
   "outputs": [
    {
     "data": {
      "text/html": [
       "<div>\n",
       "<style scoped>\n",
       "    .dataframe tbody tr th:only-of-type {\n",
       "        vertical-align: middle;\n",
       "    }\n",
       "\n",
       "    .dataframe tbody tr th {\n",
       "        vertical-align: top;\n",
       "    }\n",
       "\n",
       "    .dataframe thead th {\n",
       "        text-align: right;\n",
       "    }\n",
       "</style>\n",
       "<table border=\"1\" class=\"dataframe\">\n",
       "  <thead>\n",
       "    <tr style=\"text-align: right;\">\n",
       "      <th></th>\n",
       "      <th>Score</th>\n",
       "    </tr>\n",
       "    <tr>\n",
       "      <th>Feature</th>\n",
       "      <th></th>\n",
       "    </tr>\n",
       "  </thead>\n",
       "  <tbody>\n",
       "    <tr>\n",
       "      <th>koi_fpflag_co</th>\n",
       "      <td>0.113688</td>\n",
       "    </tr>\n",
       "    <tr>\n",
       "      <th>koi_fpflag_nt</th>\n",
       "      <td>0.096488</td>\n",
       "    </tr>\n",
       "    <tr>\n",
       "      <th>koi_fpflag_ss</th>\n",
       "      <td>0.065445</td>\n",
       "    </tr>\n",
       "    <tr>\n",
       "      <th>koi_prad</th>\n",
       "      <td>0.051227</td>\n",
       "    </tr>\n",
       "    <tr>\n",
       "      <th>koi_model_snr</th>\n",
       "      <td>0.050894</td>\n",
       "    </tr>\n",
       "    <tr>\n",
       "      <th>koi_steff_err1</th>\n",
       "      <td>0.040186</td>\n",
       "    </tr>\n",
       "    <tr>\n",
       "      <th>koi_prad_err1</th>\n",
       "      <td>0.038436</td>\n",
       "    </tr>\n",
       "    <tr>\n",
       "      <th>koi_fpflag_ec</th>\n",
       "      <td>0.034139</td>\n",
       "    </tr>\n",
       "    <tr>\n",
       "      <th>koi_duration_err2</th>\n",
       "      <td>0.032691</td>\n",
       "    </tr>\n",
       "    <tr>\n",
       "      <th>koi_duration_err1</th>\n",
       "      <td>0.031996</td>\n",
       "    </tr>\n",
       "    <tr>\n",
       "      <th>koi_prad_err2</th>\n",
       "      <td>0.026766</td>\n",
       "    </tr>\n",
       "    <tr>\n",
       "      <th>koi_steff_err2</th>\n",
       "      <td>0.026156</td>\n",
       "    </tr>\n",
       "    <tr>\n",
       "      <th>koi_duration</th>\n",
       "      <td>0.025286</td>\n",
       "    </tr>\n",
       "    <tr>\n",
       "      <th>koi_time0bk_err1</th>\n",
       "      <td>0.024898</td>\n",
       "    </tr>\n",
       "    <tr>\n",
       "      <th>koi_depth</th>\n",
       "      <td>0.022305</td>\n",
       "    </tr>\n",
       "    <tr>\n",
       "      <th>koi_period</th>\n",
       "      <td>0.021317</td>\n",
       "    </tr>\n",
       "    <tr>\n",
       "      <th>koi_time0bk_err2</th>\n",
       "      <td>0.021253</td>\n",
       "    </tr>\n",
       "    <tr>\n",
       "      <th>koi_period_err1</th>\n",
       "      <td>0.019155</td>\n",
       "    </tr>\n",
       "    <tr>\n",
       "      <th>koi_teq</th>\n",
       "      <td>0.017055</td>\n",
       "    </tr>\n",
       "    <tr>\n",
       "      <th>koi_period_err2</th>\n",
       "      <td>0.016915</td>\n",
       "    </tr>\n",
       "    <tr>\n",
       "      <th>koi_insol_err1</th>\n",
       "      <td>0.016365</td>\n",
       "    </tr>\n",
       "    <tr>\n",
       "      <th>koi_impact</th>\n",
       "      <td>0.015849</td>\n",
       "    </tr>\n",
       "    <tr>\n",
       "      <th>koi_depth_err1</th>\n",
       "      <td>0.014325</td>\n",
       "    </tr>\n",
       "    <tr>\n",
       "      <th>koi_depth_err2</th>\n",
       "      <td>0.013823</td>\n",
       "    </tr>\n",
       "    <tr>\n",
       "      <th>koi_time0bk</th>\n",
       "      <td>0.013377</td>\n",
       "    </tr>\n",
       "    <tr>\n",
       "      <th>ra</th>\n",
       "      <td>0.013370</td>\n",
       "    </tr>\n",
       "    <tr>\n",
       "      <th>koi_insol_err2</th>\n",
       "      <td>0.013197</td>\n",
       "    </tr>\n",
       "    <tr>\n",
       "      <th>koi_insol</th>\n",
       "      <td>0.011176</td>\n",
       "    </tr>\n",
       "    <tr>\n",
       "      <th>koi_kepmag</th>\n",
       "      <td>0.011041</td>\n",
       "    </tr>\n",
       "    <tr>\n",
       "      <th>dec</th>\n",
       "      <td>0.011020</td>\n",
       "    </tr>\n",
       "    <tr>\n",
       "      <th>koi_impact_err1</th>\n",
       "      <td>0.010867</td>\n",
       "    </tr>\n",
       "    <tr>\n",
       "      <th>koi_srad_err1</th>\n",
       "      <td>0.010695</td>\n",
       "    </tr>\n",
       "    <tr>\n",
       "      <th>koi_impact_err2</th>\n",
       "      <td>0.010361</td>\n",
       "    </tr>\n",
       "    <tr>\n",
       "      <th>koi_slogg_err2</th>\n",
       "      <td>0.009850</td>\n",
       "    </tr>\n",
       "    <tr>\n",
       "      <th>koi_steff</th>\n",
       "      <td>0.009385</td>\n",
       "    </tr>\n",
       "    <tr>\n",
       "      <th>koi_slogg</th>\n",
       "      <td>0.009339</td>\n",
       "    </tr>\n",
       "    <tr>\n",
       "      <th>koi_srad_err2</th>\n",
       "      <td>0.008930</td>\n",
       "    </tr>\n",
       "    <tr>\n",
       "      <th>koi_slogg_err1</th>\n",
       "      <td>0.008895</td>\n",
       "    </tr>\n",
       "    <tr>\n",
       "      <th>koi_srad</th>\n",
       "      <td>0.008596</td>\n",
       "    </tr>\n",
       "    <tr>\n",
       "      <th>koi_tce_plnt_num</th>\n",
       "      <td>0.003241</td>\n",
       "    </tr>\n",
       "  </tbody>\n",
       "</table>\n",
       "</div>"
      ],
      "text/plain": [
       "                      Score\n",
       "Feature                    \n",
       "koi_fpflag_co      0.113688\n",
       "koi_fpflag_nt      0.096488\n",
       "koi_fpflag_ss      0.065445\n",
       "koi_prad           0.051227\n",
       "koi_model_snr      0.050894\n",
       "koi_steff_err1     0.040186\n",
       "koi_prad_err1      0.038436\n",
       "koi_fpflag_ec      0.034139\n",
       "koi_duration_err2  0.032691\n",
       "koi_duration_err1  0.031996\n",
       "koi_prad_err2      0.026766\n",
       "koi_steff_err2     0.026156\n",
       "koi_duration       0.025286\n",
       "koi_time0bk_err1   0.024898\n",
       "koi_depth          0.022305\n",
       "koi_period         0.021317\n",
       "koi_time0bk_err2   0.021253\n",
       "koi_period_err1    0.019155\n",
       "koi_teq            0.017055\n",
       "koi_period_err2    0.016915\n",
       "koi_insol_err1     0.016365\n",
       "koi_impact         0.015849\n",
       "koi_depth_err1     0.014325\n",
       "koi_depth_err2     0.013823\n",
       "koi_time0bk        0.013377\n",
       "ra                 0.013370\n",
       "koi_insol_err2     0.013197\n",
       "koi_insol          0.011176\n",
       "koi_kepmag         0.011041\n",
       "dec                0.011020\n",
       "koi_impact_err1    0.010867\n",
       "koi_srad_err1      0.010695\n",
       "koi_impact_err2    0.010361\n",
       "koi_slogg_err2     0.009850\n",
       "koi_steff          0.009385\n",
       "koi_slogg          0.009339\n",
       "koi_srad_err2      0.008930\n",
       "koi_slogg_err1     0.008895\n",
       "koi_srad           0.008596\n",
       "koi_tce_plnt_num   0.003241"
      ]
     },
     "execution_count": 19,
     "metadata": {},
     "output_type": "execute_result"
    }
   ],
   "source": [
    "# Determine which features ought to be kept\n",
    "feature_names = X.columns.tolist()\n",
    "preSelected_features = sorted(zip(model_1.feature_importances_, feature_names), reverse=True)\n",
    "ranked_features = pd.DataFrame(preSelected_features, columns=['Score', 'Feature'])\n",
    "ranked_features = ranked_features.set_index('Feature')\n",
    "ranked_features"
   ]
  },
  {
   "cell_type": "code",
   "execution_count": 20,
   "id": "bearing-scale",
   "metadata": {},
   "outputs": [],
   "source": [
    "# Remove features with Score < 0.011\n",
    "selected_features = []\n",
    "for tup in preSelected_features:\n",
    "    if tup[0] > 0.01:\n",
    "        selected_features.append(tup[1])"
   ]
  },
  {
   "cell_type": "code",
   "execution_count": 21,
   "id": "prescription-accreditation",
   "metadata": {},
   "outputs": [
    {
     "name": "stdout",
     "output_type": "stream",
     "text": [
      "Training Data Score: 100.0 %\n",
      "Testing Data Score: 89.416 %\n"
     ]
    }
   ],
   "source": [
    "# Use new data for all subsequent models\n",
    "## Assign new data to X \n",
    "X_train_select = X_train[selected_features]\n",
    "X_test_select = X_test[selected_features]\n",
    "\n",
    "X_scaler = MinMaxScaler().fit(X_train_select)\n",
    "X_train_scaled = X_scaler.transform(X_train_select)\n",
    "X_test_scaled = X_scaler.transform(X_test_select)\n",
    "\n",
    "## Train new model\n",
    "model_2 = RandomForestClassifier(n_estimators=200)\n",
    "model_2.fit(X_train_scaled, y_train)\n",
    "\n",
    "model_2_training_score = round(model_2.score(X_train_scaled, y_train)*100,3)\n",
    "select_features_accuracy = round(model_2.score(X_test_scaled, y_test)*100,3)\n",
    "\n",
    "print(f\"Training Data Score: {model_2_training_score} %\")\n",
    "print(f\"Testing Data Score: {select_features_accuracy} %\")"
   ]
  },
  {
   "cell_type": "markdown",
   "id": "eleven-regular",
   "metadata": {},
   "source": [
    "### Model Tuning"
   ]
  },
  {
   "cell_type": "code",
   "execution_count": null,
   "id": "guided-revelation",
   "metadata": {},
   "outputs": [
    {
     "name": "stdout",
     "output_type": "stream",
     "text": [
      "Fitting 5 folds for each of 72 candidates, totalling 360 fits\n"
     ]
    }
   ],
   "source": [
    "# Create the RandomSearchCV model\n",
    "model_3 = RandomForestClassifier(random_state=42)\n",
    "\n",
    "param_grid = {\n",
    "    'n_estimators': [200, 600, 1200, 1400],\n",
    "    'max_features': ['auto', 'sqrt', 'log2'],\n",
    "    'max_depth': [14, 15, 16, 17, 18, None]\n",
    "}\n",
    "grid = GridSearchCV(model_3, param_grid, cv=5, verbose=3, n_jobs=-1)\n",
    "\n",
    "# Train the model with GridSearch\n",
    "_ = grid.fit(X_train_scaled, y_train)"
   ]
  },
  {
   "cell_type": "markdown",
   "id": "infrared-encyclopedia",
   "metadata": {},
   "source": [
    "### Train Tuned Model"
   ]
  },
  {
   "cell_type": "code",
   "execution_count": null,
   "id": "armed-opportunity",
   "metadata": {},
   "outputs": [],
   "source": [
    "# Tuned parameters\n",
    "max_features = grid.best_params_['max_features']\n",
    "n_estimators = grid.best_params_['n_estimators']\n",
    "max_depth = grid.best_params_['max_depth']\n",
    "criterion = 'entropy'\n",
    "\n",
    "# Tuned model\n",
    "tuned_model = RandomForestClassifier(max_features=max_features, n_estimators=n_estimators, \n",
    "                                     criterion=criterion, max_depth=max_depth, random_state=42)\n",
    "tuned_model.fit(X_train_scaled, y_train)\n",
    "\n",
    "model_3_training_score = round(tuned_model.score(X_train_scaled, y_train)*100,3)\n",
    "tuned_accuracy = round(tuned_model.score(X_test_scaled, y_test)*100,3)\n",
    "\n",
    "print(f\"Training Data Score: {model_3_training_score} %\")\n",
    "print(f\"Testing Data Score: {tuned_accuracy} %\")"
   ]
  },
  {
   "cell_type": "markdown",
   "id": "chemical-copyright",
   "metadata": {},
   "source": [
    "# Model Predictions and Evaluations"
   ]
  },
  {
   "cell_type": "markdown",
   "id": "elementary-liquid",
   "metadata": {},
   "source": [
    "### Predicitions"
   ]
  },
  {
   "cell_type": "code",
   "execution_count": null,
   "id": "heated-consultancy",
   "metadata": {},
   "outputs": [],
   "source": [
    "predictions = tuned_model.predict(X_test_scaled)\n",
    "classifications = y_test.unique().tolist()\n",
    "\n",
    "prediction_actual = {\n",
    "    'Actual': y_test,\n",
    "    'Prediction': predictions\n",
    "}\n",
    "\n",
    "PA_df = pd.DataFrame(prediction_actual)\n",
    "PA_df = PA_df.set_index('Actual').reset_index()\n",
    "PA_df.head(15)"
   ]
  },
  {
   "cell_type": "markdown",
   "id": "automotive-twins",
   "metadata": {},
   "source": [
    "### Evaluations"
   ]
  },
  {
   "cell_type": "code",
   "execution_count": null,
   "id": "together-worcester",
   "metadata": {},
   "outputs": [],
   "source": [
    "evaluations = {'': ['Base Model', 'Select Features Model', 'Tuned Model'],\n",
    "               'Accuracy': [f\"{base_accuracy}%\", f\"{select_features_accuracy}%\", f\"{tuned_accuracy}%\"]}\n",
    "\n",
    "evaluations_df = pd.DataFrame(evaluations)\n",
    "evaluations_df = evaluations_df.set_index('')\n",
    "\n",
    "evaluations_df.to_csv('../Resources/RandomForestClassifier_eval.csv')\n",
    "evaluations_df"
   ]
  },
  {
   "cell_type": "markdown",
   "id": "breathing-thumbnail",
   "metadata": {},
   "source": [
    "# Save the Model"
   ]
  },
  {
   "cell_type": "code",
   "execution_count": null,
   "id": "cardiac-california",
   "metadata": {},
   "outputs": [],
   "source": [
    "filename = '../Models/BestModel_RandomForest.sav'\n",
    "_ = joblib.dump(tuned_model, filename)"
   ]
  }
 ],
 "metadata": {
  "kernelspec": {
   "display_name": "Python 3",
   "language": "python",
   "name": "python3"
  },
  "language_info": {
   "codemirror_mode": {
    "name": "ipython",
    "version": 3
   },
   "file_extension": ".py",
   "mimetype": "text/x-python",
   "name": "python",
   "nbconvert_exporter": "python",
   "pygments_lexer": "ipython3",
   "version": "3.6.12"
  }
 },
 "nbformat": 4,
 "nbformat_minor": 5
}
