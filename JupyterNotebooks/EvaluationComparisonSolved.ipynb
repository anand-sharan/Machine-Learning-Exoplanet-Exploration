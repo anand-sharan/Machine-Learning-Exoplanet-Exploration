{
 "cells": [
  {
   "cell_type": "markdown",
   "id": "communist-ecuador",
   "metadata": {},
   "source": [
    "## Dependencies"
   ]
  },
  {
   "cell_type": "code",
   "execution_count": 1,
   "id": "formal-theme",
   "metadata": {},
   "outputs": [],
   "source": [
    "import joblib\n",
    "import pandas as pd"
   ]
  },
  {
   "cell_type": "markdown",
   "id": "humanitarian-token",
   "metadata": {},
   "source": [
    "## Load Files"
   ]
  },
  {
   "cell_type": "code",
   "execution_count": 2,
   "id": "stone-investment",
   "metadata": {},
   "outputs": [],
   "source": [
    "# Models\n",
    "RFC_model = joblib.load('../Models/BestModel_RandomForest.sav')\n",
    "LR_model = joblib.load('../Models/OtherModel_LogisticRegression.sav')\n",
    "\n",
    "# Evaluation \n",
    "RFC_eval = pd.read_csv('../Resources/LogisticRegression_eval.csv')\n",
    "LR_eval = pd.read_csv('../Resources/RandomForestClassifier_eval.csv')"
   ]
  },
  {
   "cell_type": "code",
   "execution_count": 3,
   "id": "laden-pavilion",
   "metadata": {},
   "outputs": [
    {
     "data": {
      "text/html": [
       "<div>\n",
       "<style scoped>\n",
       "    .dataframe tbody tr th:only-of-type {\n",
       "        vertical-align: middle;\n",
       "    }\n",
       "\n",
       "    .dataframe tbody tr th {\n",
       "        vertical-align: top;\n",
       "    }\n",
       "\n",
       "    .dataframe thead th {\n",
       "        text-align: right;\n",
       "    }\n",
       "</style>\n",
       "<table border=\"1\" class=\"dataframe\">\n",
       "  <thead>\n",
       "    <tr style=\"text-align: right;\">\n",
       "      <th></th>\n",
       "      <th>Unnamed: 0</th>\n",
       "      <th>Accuracy</th>\n",
       "    </tr>\n",
       "  </thead>\n",
       "  <tbody>\n",
       "    <tr>\n",
       "      <th>0</th>\n",
       "      <td>Base Model</td>\n",
       "      <td>86.213%</td>\n",
       "    </tr>\n",
       "    <tr>\n",
       "      <th>1</th>\n",
       "      <td>Select Features Model</td>\n",
       "      <td>86.213%</td>\n",
       "    </tr>\n",
       "    <tr>\n",
       "      <th>2</th>\n",
       "      <td>Tuned Model</td>\n",
       "      <td>89.474%</td>\n",
       "    </tr>\n",
       "  </tbody>\n",
       "</table>\n",
       "</div>"
      ],
      "text/plain": [
       "              Unnamed: 0 Accuracy\n",
       "0             Base Model  86.213%\n",
       "1  Select Features Model  86.213%\n",
       "2            Tuned Model  89.474%"
      ]
     },
     "execution_count": 3,
     "metadata": {},
     "output_type": "execute_result"
    }
   ],
   "source": [
    "RFC_eval"
   ]
  },
  {
   "cell_type": "code",
   "execution_count": 4,
   "id": "traditional-quantity",
   "metadata": {},
   "outputs": [
    {
     "data": {
      "text/html": [
       "<div>\n",
       "<style scoped>\n",
       "    .dataframe tbody tr th:only-of-type {\n",
       "        vertical-align: middle;\n",
       "    }\n",
       "\n",
       "    .dataframe tbody tr th {\n",
       "        vertical-align: top;\n",
       "    }\n",
       "\n",
       "    .dataframe thead th {\n",
       "        text-align: right;\n",
       "    }\n",
       "</style>\n",
       "<table border=\"1\" class=\"dataframe\">\n",
       "  <thead>\n",
       "    <tr style=\"text-align: right;\">\n",
       "      <th></th>\n",
       "      <th>Unnamed: 0</th>\n",
       "      <th>Accuracy</th>\n",
       "    </tr>\n",
       "  </thead>\n",
       "  <tbody>\n",
       "    <tr>\n",
       "      <th>0</th>\n",
       "      <td>Base Model</td>\n",
       "      <td>89.588%</td>\n",
       "    </tr>\n",
       "    <tr>\n",
       "      <th>1</th>\n",
       "      <td>Select Features Model</td>\n",
       "      <td>90.389%</td>\n",
       "    </tr>\n",
       "    <tr>\n",
       "      <th>2</th>\n",
       "      <td>Tuned Model</td>\n",
       "      <td>90.446%</td>\n",
       "    </tr>\n",
       "  </tbody>\n",
       "</table>\n",
       "</div>"
      ],
      "text/plain": [
       "              Unnamed: 0 Accuracy\n",
       "0             Base Model  89.588%\n",
       "1  Select Features Model  90.389%\n",
       "2            Tuned Model  90.446%"
      ]
     },
     "execution_count": 4,
     "metadata": {},
     "output_type": "execute_result"
    }
   ],
   "source": [
    "LR_eval"
   ]
  },
  {
   "cell_type": "code",
   "execution_count": 5,
   "id": "short-minutes",
   "metadata": {},
   "outputs": [],
   "source": [
    "merged_df = RFC_eval.merge(LR_eval, on='Unnamed: 0')\n",
    "\n",
    "merged_df = merged_df.rename(columns={\n",
    "    'Unnamed: 0': '',\n",
    "    'Accuracy_x': 'LR Accuracy',\n",
    "    'Accuracy_y': 'RFC Accuracy'\n",
    "})\n",
    "\n",
    "merged_df = merged_df.set_index('')"
   ]
  },
  {
   "cell_type": "code",
   "execution_count": 6,
   "id": "protected-agent",
   "metadata": {},
   "outputs": [
    {
     "data": {
      "text/html": [
       "<div>\n",
       "<style scoped>\n",
       "    .dataframe tbody tr th:only-of-type {\n",
       "        vertical-align: middle;\n",
       "    }\n",
       "\n",
       "    .dataframe tbody tr th {\n",
       "        vertical-align: top;\n",
       "    }\n",
       "\n",
       "    .dataframe thead th {\n",
       "        text-align: right;\n",
       "    }\n",
       "</style>\n",
       "<table border=\"1\" class=\"dataframe\">\n",
       "  <thead>\n",
       "    <tr style=\"text-align: right;\">\n",
       "      <th></th>\n",
       "      <th>LR Accuracy</th>\n",
       "      <th>RFC Accuracy</th>\n",
       "    </tr>\n",
       "    <tr>\n",
       "      <th></th>\n",
       "      <th></th>\n",
       "      <th></th>\n",
       "    </tr>\n",
       "  </thead>\n",
       "  <tbody>\n",
       "    <tr>\n",
       "      <th>Base Model</th>\n",
       "      <td>86.213%</td>\n",
       "      <td>89.588%</td>\n",
       "    </tr>\n",
       "    <tr>\n",
       "      <th>Select Features Model</th>\n",
       "      <td>86.213%</td>\n",
       "      <td>90.389%</td>\n",
       "    </tr>\n",
       "    <tr>\n",
       "      <th>Tuned Model</th>\n",
       "      <td>89.474%</td>\n",
       "      <td>90.446%</td>\n",
       "    </tr>\n",
       "  </tbody>\n",
       "</table>\n",
       "</div>"
      ],
      "text/plain": [
       "                      LR Accuracy RFC Accuracy\n",
       "                                              \n",
       "Base Model                86.213%      89.588%\n",
       "Select Features Model     86.213%      90.389%\n",
       "Tuned Model               89.474%      90.446%"
      ]
     },
     "execution_count": 6,
     "metadata": {},
     "output_type": "execute_result"
    }
   ],
   "source": [
    "merged_df"
   ]
  },
  {
   "cell_type": "code",
   "execution_count": null,
   "id": "extra-parent",
   "metadata": {},
   "outputs": [],
   "source": []
  }
 ],
 "metadata": {
  "kernelspec": {
   "display_name": "Python 3",
   "language": "python",
   "name": "python3"
  },
  "language_info": {
   "codemirror_mode": {
    "name": "ipython",
    "version": 3
   },
   "file_extension": ".py",
   "mimetype": "text/x-python",
   "name": "python",
   "nbconvert_exporter": "python",
   "pygments_lexer": "ipython3",
   "version": "3.6.12"
  }
 },
 "nbformat": 4,
 "nbformat_minor": 5
}
