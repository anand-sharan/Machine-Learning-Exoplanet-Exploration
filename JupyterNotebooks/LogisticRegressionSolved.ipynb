{
 "cells": [
  {
   "cell_type": "markdown",
   "id": "dress-charm",
   "metadata": {},
   "source": [
    "# Dependecies"
   ]
  },
  {
   "cell_type": "code",
   "execution_count": 1,
   "id": "accepting-value",
   "metadata": {},
   "outputs": [],
   "source": [
    "import pandas as pd\n",
    "import numpy as np\n",
    "from sklearn.model_selection import train_test_split, GridSearchCV\n",
    "from sklearn.preprocessing import MinMaxScaler\n",
    "from sklearn.linear_model import LogisticRegression\n",
    "from sklearn.feature_selection import RFECV\n",
    "import joblib"
   ]
  },
  {
   "cell_type": "markdown",
   "id": "soviet-detection",
   "metadata": {},
   "source": [
    "# Process Data"
   ]
  },
  {
   "cell_type": "markdown",
   "id": "mobile-microphone",
   "metadata": {},
   "source": [
    "### Data Cleanup"
   ]
  },
  {
   "cell_type": "code",
   "execution_count": 2,
   "id": "devoted-handy",
   "metadata": {},
   "outputs": [],
   "source": [
    "data = pd.read_csv(\"../Resources/exoplanet_data.csv\")\n",
    "\n",
    "# Drop null columns\n",
    "data = data.dropna(axis='columns', how='all')\n",
    "\n",
    "# Drop null rows\n",
    "data = data.dropna()\n",
    "\n",
    "# Convert dtypes of int64 to float64\n",
    "for column, content in data.items():\n",
    "    if data[column].dtype == 'int64':\n",
    "        data = data.astype({column: 'float64'})"
   ]
  },
  {
   "cell_type": "markdown",
   "id": "fossil-sheet",
   "metadata": {},
   "source": [
    "### Pre-prossessing"
   ]
  },
  {
   "cell_type": "code",
   "execution_count": 3,
   "id": "unsigned-danger",
   "metadata": {},
   "outputs": [],
   "source": [
    "# Assign data to X and y\n",
    "X = data.drop(\"koi_disposition\", axis=1)\n",
    "y = data[\"koi_disposition\"]\n",
    "\n",
    "# Split data into training and testing groups\n",
    "X_train, X_test, y_train, y_test = train_test_split(X, y, random_state=42, stratify=y)"
   ]
  },
  {
   "cell_type": "code",
   "execution_count": 4,
   "id": "reliable-novel",
   "metadata": {},
   "outputs": [],
   "source": [
    "# Scale X values\n",
    "X_scaler = MinMaxScaler().fit(X_train)\n",
    "X_train_scaled = X_scaler.transform(X_train)\n",
    "X_test_scaled = X_scaler.transform(X_test)"
   ]
  },
  {
   "cell_type": "markdown",
   "id": "informed-egyptian",
   "metadata": {},
   "source": [
    "# Build the Model"
   ]
  },
  {
   "cell_type": "markdown",
   "id": "several-scene",
   "metadata": {},
   "source": [
    "### Train the Model"
   ]
  },
  {
   "cell_type": "code",
   "execution_count": 5,
   "id": "naughty-contract",
   "metadata": {},
   "outputs": [
    {
     "name": "stdout",
     "output_type": "stream",
     "text": [
      "Training Data Score: 85.504 %\n",
      "Testing Data Score: 86.213 %\n"
     ]
    }
   ],
   "source": [
    "model_1 = LogisticRegression(solver='newton-cg', multi_class='auto')\n",
    "model_1.fit(X_train_scaled, y_train)\n",
    "\n",
    "model_1_training_score = round(model_1.score(X_train_scaled, y_train)*100,3)\n",
    "base_accuracy = round(model_1.score(X_test_scaled, y_test)*100,3)\n",
    "\n",
    "print(f\"Training Data Score: {model_1_training_score} %\")\n",
    "print(f\"Testing Data Score: {base_accuracy} %\")"
   ]
  },
  {
   "cell_type": "markdown",
   "id": "alleged-spokesman",
   "metadata": {},
   "source": [
    "### Select Features"
   ]
  },
  {
   "cell_type": "code",
   "execution_count": null,
   "id": "senior-electric",
   "metadata": {},
   "outputs": [],
   "source": [
    "# Evaluate features\n",
    "feature_names = X.columns.tolist()\n",
    "selector = RFECV(estimator=model_1, cv=5, step=1)\n",
    "_ = selector.fit(X_train_scaled, y_train)"
   ]
  },
  {
   "cell_type": "code",
   "execution_count": null,
   "id": "gorgeous-framing",
   "metadata": {},
   "outputs": [],
   "source": [
    "# Determine which features ought to be kept\n",
    "preSelected_features = sorted(zip(selector.ranking_, feature_names))\n",
    "ranked_features = pd.DataFrame(preSelected_features, columns=['Ranking', 'Feature'])\n",
    "ranked_features = ranked_features.set_index('Feature')\n",
    "ranked_features"
   ]
  },
  {
   "cell_type": "code",
   "execution_count": null,
   "id": "infinite-atlantic",
   "metadata": {},
   "outputs": [],
   "source": [
    "# Remove features with Ranking > 16\n",
    "selected_features = []\n",
    "for tup in preSelected_features:\n",
    "    if tup[0] < 17:\n",
    "        selected_features.append(tup[1])"
   ]
  },
  {
   "cell_type": "code",
   "execution_count": null,
   "id": "modular-construction",
   "metadata": {},
   "outputs": [],
   "source": [
    "# Use new data for all subsequent models\n",
    "## Assign new data to X \n",
    "X_train_select = X_train[selected_features]\n",
    "X_test_select = X_test[selected_features]\n",
    "\n",
    "X_scaler = MinMaxScaler().fit(X_train_select)\n",
    "X_train_scaled = X_scaler.transform(X_train_select)\n",
    "X_test_scaled = X_scaler.transform(X_test_select)\n",
    "\n",
    "## Train new model\n",
    "model_2 = LogisticRegression(solver='newton-cg', multi_class='auto')\n",
    "model_2.fit(X_train_scaled, y_train)\n",
    "\n",
    "model_2_training_score = round(model_2.score(X_train_scaled, y_train)*100,3)\n",
    "select_features_accuracy = round(model_2.score(X_test_scaled, y_test)*100,3)\n",
    "\n",
    "print(f\"Training Data Score: {model_2_training_score} %\")\n",
    "print(f\"Testing Data Score: {select_features_accuracy} %\")"
   ]
  },
  {
   "cell_type": "markdown",
   "id": "joined-owner",
   "metadata": {},
   "source": [
    "### Model Tuning"
   ]
  },
  {
   "cell_type": "code",
   "execution_count": null,
   "id": "adult-kansas",
   "metadata": {},
   "outputs": [],
   "source": [
    "# Create the GridSearchCV model\n",
    "model_3 = LogisticRegression(solver='newton-cg', multi_class='auto')\n",
    "\n",
    "param_grid = {\n",
    "    'C': np.logspace(0, 4, 10),\n",
    "    'penalty': ['l2']\n",
    "}\n",
    "grid = GridSearchCV(model_3, param_grid, cv=5, verbose=0)\n",
    "\n",
    "# Train the model with GridSearch\n",
    "_ = grid.fit(X_train_scaled, y_train)"
   ]
  },
  {
   "cell_type": "markdown",
   "id": "better-impact",
   "metadata": {},
   "source": [
    "### Train Tuned Model"
   ]
  },
  {
   "cell_type": "code",
   "execution_count": null,
   "id": "executed-longitude",
   "metadata": {},
   "outputs": [],
   "source": [
    "# Tuned parameters\n",
    "C = grid.best_params_['C']\n",
    "penalty = grid.best_params_['penalty']\n",
    "\n",
    "# Tuned model\n",
    "tuned_model = LogisticRegression(solver='newton-cg', multi_class='auto',\n",
    "                                 C=C, penalty=penalty)\n",
    "tuned_model.fit(X_train_scaled, y_train)\n",
    "\n",
    "model_3_training_score = round(tuned_model.score(X_train_scaled, y_train)*100,3)\n",
    "tuned_accuracy = round(tuned_model.score(X_test_scaled, y_test)*100,3)\n",
    "\n",
    "print(f\"Training Data Score: {model_3_training_score} %\")\n",
    "print(f\"Testing Data Score: {tuned_accuracy} %\")"
   ]
  },
  {
   "cell_type": "markdown",
   "id": "incorporated-failure",
   "metadata": {},
   "source": [
    "# Model Predictions and Evaluations"
   ]
  },
  {
   "cell_type": "markdown",
   "id": "dynamic-length",
   "metadata": {},
   "source": [
    "### Predictions"
   ]
  },
  {
   "cell_type": "code",
   "execution_count": null,
   "id": "subjective-insulin",
   "metadata": {},
   "outputs": [],
   "source": [
    "predictions = tuned_model.predict(X_test_scaled)\n",
    "classifications = y_test.unique().tolist()\n",
    "\n",
    "prediction_actual = {\n",
    "    'Actual': y_test,\n",
    "    'Prediction': predictions\n",
    "}\n",
    "\n",
    "PA_df = pd.DataFrame(prediction_actual)\n",
    "PA_df = PA_df.set_index('Actual').reset_index()\n",
    "PA_df.head(15)"
   ]
  },
  {
   "cell_type": "markdown",
   "id": "considerable-kelly",
   "metadata": {},
   "source": [
    "### Evaluations"
   ]
  },
  {
   "cell_type": "code",
   "execution_count": null,
   "id": "tired-appointment",
   "metadata": {},
   "outputs": [],
   "source": [
    "evaluations = {'': ['Base Model', 'Select Features Model', 'Tuned Model'],\n",
    "               'Accuracy': [f\"{base_accuracy}%\", f\"{select_features_accuracy}%\", f\"{tuned_accuracy}%\"]}\n",
    "\n",
    "evaluations_df = pd.DataFrame(evaluations)\n",
    "evaluations_df = evaluations_df.set_index('')\n",
    "\n",
    "evaluations_df.to_csv('../Resources/LogisticRegression_eval.csv')\n",
    "evaluations_df"
   ]
  },
  {
   "cell_type": "markdown",
   "id": "clear-cheat",
   "metadata": {},
   "source": [
    "# Save Model"
   ]
  },
  {
   "cell_type": "code",
   "execution_count": null,
   "id": "massive-moisture",
   "metadata": {},
   "outputs": [],
   "source": [
    "filename = '../Models/OtherModel_LogisticRegression.sav'\n",
    "_ = joblib.dump(tuned_model, filename)"
   ]
  }
 ],
 "metadata": {
  "kernelspec": {
   "display_name": "Python 3",
   "language": "python",
   "name": "python3"
  },
  "language_info": {
   "codemirror_mode": {
    "name": "ipython",
    "version": 3
   },
   "file_extension": ".py",
   "mimetype": "text/x-python",
   "name": "python",
   "nbconvert_exporter": "python",
   "pygments_lexer": "ipython3",
   "version": "3.6.12"
  }
 },
 "nbformat": 4,
 "nbformat_minor": 5
}
